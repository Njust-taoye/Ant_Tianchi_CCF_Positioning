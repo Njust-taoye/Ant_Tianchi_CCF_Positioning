{
 "cells": [
  {
   "cell_type": "code",
   "execution_count": 1,
   "metadata": {
    "collapsed": true
   },
   "outputs": [],
   "source": [
    "import numpy as np\n",
    "import pandas as pd\n",
    "import scipy as sp\n",
    "import pickle\n",
    "import gc\n",
    "from tqdm import tqdm\n",
    "import matplotlib.pyplot as plt\n",
    "import warnings\n"
   ]
  },
  {
   "cell_type": "code",
   "execution_count": 2,
   "metadata": {
    "collapsed": true
   },
   "outputs": [],
   "source": [
    "df_shop=pd.read_csv(\"data//shop_info.csv\")\n",
    "df_behavior=pd.read_csv(\"data//user_shop_behavior.csv\")\n",
    "X_train=df_behavior.merge(df_shop[['shop_id','mall_id']],on=['shop_id'],how='left')\n",
    "X_train['row_id']=X_train.index"
   ]
  },
  {
   "cell_type": "code",
   "execution_count": 3,
   "metadata": {
    "collapsed": true
   },
   "outputs": [],
   "source": [
    "X_test=pd.read_csv(\"data//test.csv\")\n",
    "wifi_train=pd.read_pickle(\"data//wifi_train.pkl\")"
   ]
  },
  {
   "cell_type": "code",
   "execution_count": 4,
   "metadata": {
    "collapsed": true
   },
   "outputs": [],
   "source": [
    "K=6#rssi最短间距"
   ]
  },
  {
   "cell_type": "markdown",
   "metadata": {},
   "source": [
    "shop_bssid(店铺能收到哪些wifi)：{shop_id:[bssid_id]}<br>\n",
    "bssid_shop(wifi在哪些店铺出现过)：{bssid_id:[shop_id]}<br>\n",
    "mall_shop(商场有哪些店铺)：{mall_id:[shop_id]}<br>"
   ]
  },
  {
   "cell_type": "code",
   "execution_count": 6,
   "metadata": {
    "collapsed": true
   },
   "outputs": [],
   "source": [
    "wifi_train=wifi_train.merge(X_train[['row_id','shop_id']],on='row_id',how='left')\n",
    "shop_bssid=wifi_train.groupby('shop_id',as_index=False)['bssid'].agg({'all_bssid':'unique'})\n",
    "bssid_shop=wifi_train.groupby('bssid',as_index=False)['shop_id'].agg({'all_shop':'unique'})\n",
    "mall_shop=wifi_train.groupby('mall_id',as_index=False)['shop_id'].agg({'all_shop':'unique'})\n",
    "shop_bssid=dict(shop_bssid.values)\n",
    "bssid_shop=dict(bssid_shop.values)\n",
    "mall_shop=dict(mall_shop.values)"
   ]
  },
  {
   "cell_type": "markdown",
   "metadata": {},
   "source": [
    "构建指纹库"
   ]
  },
  {
   "cell_type": "code",
   "execution_count": 7,
   "metadata": {},
   "outputs": [
    {
     "name": "stderr",
     "output_type": "stream",
     "text": [
      "100%|██████████| 581726/581726 [04:14<00:00, 2283.33it/s]\n",
      "100%|██████████| 646701/646701 [04:24<00:00, 2447.83it/s]\n"
     ]
    }
   ],
   "source": [
    "#建窗口指纹库\n",
    "for num,(day1,day2) in enumerate([(1,17),(15,31)]):\n",
    "    fingerbase=dict()\n",
    "    X_train_=X_train.loc[(X_train['day']>=day1)&(X_train['day']<=day2),:]\n",
    "    for index,row in tqdm(X_train_.iterrows(),total=X_train_.shape[0]):\n",
    "        wifi_list=dict()\n",
    "        for wifi in row.wifi_infos.split(';'):\n",
    "            info=wifi.split('|')\n",
    "            wifi_list[info[0]]=int(info[1])\n",
    "\n",
    "        finger=dict()\n",
    "        for bssid1 in wifi_list:\n",
    "            for bssid2 in wifi_list:\n",
    "                if wifi_list[bssid1]-wifi_list[bssid2]>=K:\n",
    "                    if bssid1 not in finger:\n",
    "                        finger[bssid1]=set()\n",
    "                    finger[bssid1].add(bssid2)\n",
    "\n",
    "        if row['shop_id'] not in fingerbase:\n",
    "            fingerbase[row['shop_id'] ] = dict()\n",
    "        for key in finger:\n",
    "            if key not in fingerbase[row['shop_id']]:\n",
    "                fingerbase[row['shop_id']][key]=set()\n",
    "            for value in finger[key]:\n",
    "                fingerbase[row['shop_id']][key].add(value)\n",
    "\n",
    "    pkl_file=open('data//fingerbase//fingerbase_6K_%s_%s.pkl'% (day1,day2),'wb')\n",
    "    pickle.dump(fingerbase,pkl_file)"
   ]
  },
  {
   "cell_type": "markdown",
   "metadata": {},
   "source": [
    "匹配指纹库得分<br><br>\n",
    "res结构:{row_id:{shop_id:score}}<br>\n",
    "cnt为dict, 记录该条数据wifi 在该商场各shop出现次数+1"
   ]
  },
  {
   "cell_type": "code",
   "execution_count": 8,
   "metadata": {},
   "outputs": [
    {
     "name": "stderr",
     "output_type": "stream",
     "text": [
      "100%|██████████| 556289/556289 [11:22<00:00, 814.71it/s]\n"
     ]
    }
   ],
   "source": [
    "#窗口指纹库计算得分\n",
    "\n",
    "for num,(day1,day2) in enumerate([(18,31)]):\n",
    "    res=dict()\n",
    "    fingerbase=pd.read_pickle('data//fingerbase//fingerbase_6K_1_17.pkl')\n",
    "    X_=X_train.loc[(X_train['day']>=day1)&(X_train['day']<=day2),:]\n",
    "\n",
    "    for index,row in tqdm(X_.iterrows(),total=X_.shape[0]):#修改\n",
    "        wifi_list=dict()\n",
    "        cnt = dict()\n",
    "        for wifi in row.wifi_infos.split(';'):\n",
    "            info=wifi.split('|')\n",
    "            wifi_list[info[0]]=int(info[1])\n",
    "            if info[0] in bssid_shop:\n",
    "                for shop_id in bssid_shop[info[0]]:\n",
    "                    if shop_id not in cnt:\n",
    "                        cnt[shop_id]=0\n",
    "                    cnt[shop_id]+=1\n",
    "        for shop_id in mall_shop[row['mall_id']]:\n",
    "            if shop_id not in cnt:\n",
    "                cnt[shop_id]=0\n",
    "            cnt[shop_id]+=1\n",
    "\n",
    "        finger=dict()\n",
    "        for bssid1 in wifi_list:\n",
    "            for bssid2 in wifi_list:\n",
    "                if wifi_list[bssid1]-wifi_list[bssid2]>=K:\n",
    "                    if bssid1 not in finger:\n",
    "                        finger[bssid1]=set()\n",
    "                    finger[bssid1].add(bssid2)\n",
    "\n",
    "        if row['row_id'] not in res:\n",
    "            res[row['row_id']]=dict()\n",
    "        for shop_id in mall_shop[row['mall_id']]:\n",
    "            score = 0\n",
    "            for key in finger.keys():\n",
    "                if shop_id not in fingerbase:\n",
    "                    continue\n",
    "                if key not in fingerbase[shop_id]:\n",
    "                    continue\n",
    "                for value in finger[key]:\n",
    "                    if value in fingerbase[shop_id][key]:\n",
    "                        score+=1\n",
    "            res[row['row_id']][shop_id]=score\n",
    "\n",
    "    #存储得分\n",
    "    pkl_file=open('data//fingerbase//train_score_6K_%s_%s_.pkl'%(day1,day2),'wb')\n",
    "    pickle.dump(res,pkl_file)"
   ]
  },
  {
   "cell_type": "code",
   "execution_count": 9,
   "metadata": {},
   "outputs": [
    {
     "name": "stderr",
     "output_type": "stream",
     "text": [
      "100%|██████████| 483931/483931 [10:12<00:00, 790.44it/s]\n"
     ]
    }
   ],
   "source": [
    "res=dict()\n",
    "fingerbase=pd.read_pickle('data//fingerbase//fingerbase_6K_15_31.pkl')\n",
    "X_=X_test.copy()\n",
    "\n",
    "for index,row in tqdm(X_.iterrows(),total=X_.shape[0]):#修改\n",
    "    wifi_list=dict()\n",
    "    cnt = dict()\n",
    "    for wifi in row.wifi_infos.split(';'):\n",
    "        info=wifi.split('|')\n",
    "        wifi_list[info[0]]=int(info[1])\n",
    "        if info[0] in bssid_shop:\n",
    "            for shop_id in bssid_shop[info[0]]:\n",
    "                if shop_id not in cnt:\n",
    "                    cnt[shop_id]=0\n",
    "                cnt[shop_id]+=1\n",
    "    for shop_id in mall_shop[row['mall_id']]:\n",
    "        if shop_id not in cnt:\n",
    "            cnt[shop_id]=0\n",
    "        cnt[shop_id]+=1\n",
    "\n",
    "    finger=dict()\n",
    "    for bssid1 in wifi_list:\n",
    "        for bssid2 in wifi_list:\n",
    "            if wifi_list[bssid1]-wifi_list[bssid2]>=K:\n",
    "                if bssid1 not in finger:\n",
    "                    finger[bssid1]=set()\n",
    "                finger[bssid1].add(bssid2)\n",
    "\n",
    "    if row['row_id'] not in res:\n",
    "        res[row['row_id']]=dict()\n",
    "    for shop_id in mall_shop[row['mall_id']]:\n",
    "        score = 0\n",
    "        for key in finger.keys():\n",
    "            if shop_id not in fingerbase:\n",
    "                continue\n",
    "            if key not in fingerbase[shop_id]:\n",
    "                continue\n",
    "            for value in finger[key]:\n",
    "                if value in fingerbase[shop_id][key]:\n",
    "                    score+=1\n",
    "        res[row['row_id']][shop_id]=score\n",
    "\n",
    "#存储得分\n",
    "pkl_file=open('data//fingerbase//test_score_6K_twoweek_.pkl','wb')\n",
    "pickle.dump(res,pkl_file)\n"
   ]
  }
 ],
 "metadata": {
  "kernelspec": {
   "display_name": "Python 3",
   "language": "python",
   "name": "python3"
  },
  "language_info": {
   "codemirror_mode": {
    "name": "ipython",
    "version": 3
   },
   "file_extension": ".py",
   "mimetype": "text/x-python",
   "name": "python",
   "nbconvert_exporter": "python",
   "pygments_lexer": "ipython3",
   "version": "3.5.2"
  }
 },
 "nbformat": 4,
 "nbformat_minor": 2
}
